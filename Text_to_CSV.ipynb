{
 "cells": [
  {
   "cell_type": "markdown",
   "metadata": {},
   "source": [
    "# <center>Comparing Constitutions<center>"
   ]
  },
  {
   "cell_type": "markdown",
   "metadata": {},
   "source": [
    "In 2015, Nepal promulgated a new constitution replacing an interim one that was in force since 2008. The process of replacing the **Constitution of Nepal 1990** took almost 8 years. \n",
    "In this exercise, I use simple metrices such as cosine distance and k-means clustering to see how far apart the current and the former constitutions of Nepal are. In the first step, I scrape the constitutions from all around the world using, **https://www.constituteproject.org/**. Then I consolidate all the text files into a single data frame before importing it into **R** and soing the text analysis."
   ]
  },
  {
   "cell_type": "markdown",
   "metadata": {},
   "source": [
    "### <center>This Part Converts All the Text Files to One CSV Document<center>"
   ]
  },
  {
   "cell_type": "code",
   "execution_count": 1,
   "metadata": {},
   "outputs": [],
   "source": [
    "#Import the necessary modules\n",
    "import pandas as pd\n",
    "import glob\n",
    "import os\n",
    "import re"
   ]
  },
  {
   "cell_type": "code",
   "execution_count": 2,
   "metadata": {},
   "outputs": [
    {
     "data": {
      "text/plain": [
       "['Afghanistan 2004.txt',\n",
       " 'Albania 1998 (rev. 2016).txt',\n",
       " 'Algeria 1989 (reinst. 1996, rev. 2016).txt',\n",
       " 'Andorra 1993.txt',\n",
       " 'Angola 2010.txt',\n",
       " 'Antigua and Barbuda 1981.txt',\n",
       " 'Argentina 1853 (reinst. 1983, rev. 1994).txt',\n",
       " 'Armenia 1995 (rev. 2015).txt',\n",
       " 'Australia 1901 (rev. 1985).txt',\n",
       " 'Austria 1920 (reinst. 1945, rev. 2013).txt']"
      ]
     },
     "execution_count": 2,
     "metadata": {},
     "output_type": "execute_result"
    }
   ],
   "source": [
    "#Get all the filenames with the extension .txt\n",
    "os.chdir('C:/Users/Sushant/Desktop/Data_Science_R/Constitution_Comparison/consts')\n",
    "files = glob.glob('*txt')\n",
    "files[0:10]"
   ]
  },
  {
   "cell_type": "code",
   "execution_count": 3,
   "metadata": {},
   "outputs": [],
   "source": [
    "#Initialize necessary lists for appending data\n",
    "country = []\n",
    "year = []\n",
    "content = []\n",
    "\n",
    "for file in files:\n",
    "        #Get the first four digits in the name of file and append to date\n",
    "        date = re.findall('[0-9]{4}', file)\n",
    "        year.append(date[0])\n",
    "\n",
    "        '''Split the name of file by first four date and \n",
    "        add the first part of splitted list to country name'''\n",
    "        \n",
    "        name = re.split ('[0-9]{4}', file)\n",
    "        name = re.sub('\\s+$', '', name[0])\n",
    "        country.append(name.lower())\n",
    "\n",
    "        #read the file\n",
    "        text_ = open(file, 'r')\n",
    "        text = text_.read()\n",
    "        #check if the constitution has a preamble\n",
    "        try:\n",
    "            no_intro = text.split('PREAMBLE\\n')\n",
    "            \n",
    "            '''\n",
    "            substitute / by space because it combines \n",
    "            stopwords later in the processing and makes it\n",
    "            difficult to remove using the list of stopwords\n",
    "            \n",
    "            Also remove the last 20 words from each constitution\n",
    "            as they relate to copyright\n",
    "            '''\n",
    "            no_intro = re.sub('/', ' ', no_intro[1])\n",
    "            no_intro = re.sub('[\\n]', ' ', no_intro)\n",
    "            tokenized = no_intro.split(' ')\n",
    "            no_intro = ' '.join(tokenized[:-20])\n",
    "            content.append(no_intro.lower())\n",
    "            \n",
    "        except:\n",
    "            no_intro = re.sub('/', ' ', text)\n",
    "            no_intro = re.sub('[\\n]', ' ', no_intro)\n",
    "            tokenized = no_intro.split(' ')\n",
    "            no_intro = ' '.join(tokenized[:-20])\n",
    "            content.append(no_intro.lower())\n",
    "        \n",
    "#Make a dictionary and convert it to data frame\n",
    "constitutions = {'Country': country,\n",
    "                    'Year': year,\n",
    "                    'Constitution':content}\n",
    "\n",
    "consti_csv = pd.DataFrame(data = constitutions)\n",
    "cols = ['Country', 'Year', 'Constitution']\n",
    "consti_csv = consti_csv [cols]"
   ]
  },
  {
   "cell_type": "markdown",
   "metadata": {},
   "source": [
    "### Check if everything went well"
   ]
  },
  {
   "cell_type": "code",
   "execution_count": 4,
   "metadata": {},
   "outputs": [
    {
     "name": "stdout",
     "output_type": "stream",
     "text": [
      "nepal old\n",
      "1990\n"
     ]
    }
   ],
   "source": [
    "#Check to see if the things are workinga\n",
    "print(consti_csv.at [122, 'Country'])\n",
    "print(consti_csv.at [122, 'Year'])"
   ]
  },
  {
   "cell_type": "code",
   "execution_count": 5,
   "metadata": {},
   "outputs": [],
   "source": [
    "consti_csv.to_csv('Constitutions.csv')"
   ]
  },
  {
   "cell_type": "code",
   "execution_count": 6,
   "metadata": {},
   "outputs": [
    {
     "data": {
      "text/html": [
       "<div>\n",
       "<style scoped>\n",
       "    .dataframe tbody tr th:only-of-type {\n",
       "        vertical-align: middle;\n",
       "    }\n",
       "\n",
       "    .dataframe tbody tr th {\n",
       "        vertical-align: top;\n",
       "    }\n",
       "\n",
       "    .dataframe thead th {\n",
       "        text-align: right;\n",
       "    }\n",
       "</style>\n",
       "<table border=\"1\" class=\"dataframe\">\n",
       "  <thead>\n",
       "    <tr style=\"text-align: right;\">\n",
       "      <th></th>\n",
       "      <th>Country</th>\n",
       "      <th>Year</th>\n",
       "      <th>Constitution</th>\n",
       "    </tr>\n",
       "  </thead>\n",
       "  <tbody>\n",
       "    <tr>\n",
       "      <th>0</th>\n",
       "      <td>afghanistan</td>\n",
       "      <td>2004</td>\n",
       "      <td>in the name of allah, the most beneficent, the...</td>\n",
       "    </tr>\n",
       "    <tr>\n",
       "      <th>1</th>\n",
       "      <td>albania</td>\n",
       "      <td>1998</td>\n",
       "      <td>we, the people of albania, proud and aware of ...</td>\n",
       "    </tr>\n",
       "    <tr>\n",
       "      <th>2</th>\n",
       "      <td>algeria</td>\n",
       "      <td>1989</td>\n",
       "      <td>the algerian people is a free people, decided ...</td>\n",
       "    </tr>\n",
       "    <tr>\n",
       "      <th>3</th>\n",
       "      <td>andorra</td>\n",
       "      <td>1993</td>\n",
       "      <td>the andorran people, with full liberty and ind...</td>\n",
       "    </tr>\n",
       "    <tr>\n",
       "      <th>4</th>\n",
       "      <td>angola</td>\n",
       "      <td>2010</td>\n",
       "      <td>we, the people of angola, through its lawful r...</td>\n",
       "    </tr>\n",
       "  </tbody>\n",
       "</table>\n",
       "</div>"
      ],
      "text/plain": [
       "       Country  Year                                       Constitution\n",
       "0  afghanistan  2004  in the name of allah, the most beneficent, the...\n",
       "1      albania  1998  we, the people of albania, proud and aware of ...\n",
       "2      algeria  1989  the algerian people is a free people, decided ...\n",
       "3      andorra  1993  the andorran people, with full liberty and ind...\n",
       "4       angola  2010  we, the people of angola, through its lawful r..."
      ]
     },
     "execution_count": 6,
     "metadata": {},
     "output_type": "execute_result"
    }
   ],
   "source": [
    "consti_csv.head()"
   ]
  },
  {
   "cell_type": "code",
   "execution_count": null,
   "metadata": {},
   "outputs": [],
   "source": [
    "consti_csv.at[122, 'Constitution']"
   ]
  }
 ],
 "metadata": {
  "kernelspec": {
   "display_name": "Python 3",
   "language": "python",
   "name": "python3"
  },
  "language_info": {
   "codemirror_mode": {
    "name": "ipython",
    "version": 3
   },
   "file_extension": ".py",
   "mimetype": "text/x-python",
   "name": "python",
   "nbconvert_exporter": "python",
   "pygments_lexer": "ipython3",
   "version": "3.6.5"
  }
 },
 "nbformat": 4,
 "nbformat_minor": 2
}
